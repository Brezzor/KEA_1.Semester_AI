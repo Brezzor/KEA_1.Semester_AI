{
 "cells": [
  {
   "cell_type": "markdown",
   "id": "0773c3f2-01ba-49f2-aa2e-004e16f9e310",
   "metadata": {},
   "source": [
    "Breast Cancer"
   ]
  },
  {
   "cell_type": "code",
   "execution_count": 1,
   "id": "9d368d71-5f38-4ce9-bfe4-96aae5fc24aa",
   "metadata": {},
   "outputs": [],
   "source": [
    "import numpy as np\n",
    "from sklearn import datasets"
   ]
  },
  {
   "cell_type": "code",
   "execution_count": 2,
   "id": "a7c31553-4a87-4e35-96cb-ab63dfef0a43",
   "metadata": {},
   "outputs": [
    {
     "data": {
      "text/plain": [
       "(569, 30)"
      ]
     },
     "execution_count": 2,
     "metadata": {},
     "output_type": "execute_result"
    }
   ],
   "source": [
    "breast_cancer = datasets.load_breast_cancer()\n",
    "X = breast_cancer.data\n",
    "X.shape"
   ]
  },
  {
   "cell_type": "code",
   "execution_count": 3,
   "id": "9a1cce7e-728f-4c3e-9166-1b6e5052640d",
   "metadata": {},
   "outputs": [
    {
     "data": {
      "text/plain": [
       "(569,)"
      ]
     },
     "execution_count": 3,
     "metadata": {},
     "output_type": "execute_result"
    }
   ],
   "source": [
    "y = breast_cancer.target\n",
    "y.shape"
   ]
  },
  {
   "cell_type": "code",
   "execution_count": 4,
   "id": "dc97fe3e-0819-4e7a-ac87-06b9c3dcf8ef",
   "metadata": {},
   "outputs": [
    {
     "data": {
      "text/plain": [
       "array(['malignant', 'benign'], dtype='<U9')"
      ]
     },
     "execution_count": 4,
     "metadata": {},
     "output_type": "execute_result"
    }
   ],
   "source": [
    "labels = breast_cancer.target_names\n",
    "labels"
   ]
  },
  {
   "cell_type": "code",
   "execution_count": 5,
   "id": "54f98da4-f48e-498f-b764-3036d4c1ce1d",
   "metadata": {},
   "outputs": [],
   "source": [
    "from sklearn.model_selection import train_test_split"
   ]
  },
  {
   "cell_type": "code",
   "execution_count": 6,
   "id": "5d8c2087-51bc-470c-8adb-2ddad1dd408a",
   "metadata": {},
   "outputs": [
    {
     "data": {
      "text/plain": [
       "((410, 30), (410,), (73, 30), (73,), (86, 30), (86,))"
      ]
     },
     "execution_count": 6,
     "metadata": {},
     "output_type": "execute_result"
    }
   ],
   "source": [
    "X_train, X_test, y_train, y_test = train_test_split(X, y, test_size=0.15)\n",
    "X_train, X_val, y_train, y_val = train_test_split(X_train, y_train, test_size=0.15)\n",
    "X_train.shape, y_train.shape, X_val.shape, y_val.shape, X_test.shape, y_test.shape"
   ]
  },
  {
   "cell_type": "code",
   "execution_count": 15,
   "id": "88e6a5a5-6a0c-4fca-b4e2-8dae1096700f",
   "metadata": {},
   "outputs": [],
   "source": [
    "import utils"
   ]
  },
  {
   "cell_type": "code",
   "execution_count": 192,
   "id": "f014d653-5ccd-439f-8ff4-284d2b1e9477",
   "metadata": {},
   "outputs": [],
   "source": [
    "model = XGBClassifier(\n",
    "    n_estimators=12, \n",
    "    max_depth=6, \n",
    "    learning_rate=1, \n",
    "    objective='binary:logistic',\n",
    "    min_split_loss=1,\n",
    "    max_delta_step=1,\n",
    "    reg_lambda=1,\n",
    ")\n",
    "model.fit(X_train, y_train)\n",
    "preds = model.predict(X_test)"
   ]
  },
  {
   "cell_type": "code",
   "execution_count": 193,
   "id": "dc2b4f7b-5303-4871-a0cc-ab28793f8ddf",
   "metadata": {},
   "outputs": [
    {
     "name": "stdout",
     "output_type": "stream",
     "text": [
      "** XGBClassifier_3\n",
      "1.0\n",
      "0.9166666666666666\n"
     ]
    }
   ],
   "source": [
    "train_pred = model.predict(X_train)\n",
    "val_pred = model.predict(X_val)\n",
    "print('** XGBClassifier_3')\n",
    "print(utils.evaluate(train_pred, y_train)['Youden'])\n",
    "print(utils.evaluate(val_pred, y_val)['Youden'])"
   ]
  },
  {
   "cell_type": "code",
   "execution_count": null,
   "id": "79fbae2d-9a8f-40d7-acb0-a2cad74ca930",
   "metadata": {},
   "outputs": [],
   "source": []
  }
 ],
 "metadata": {
  "kernelspec": {
   "display_name": "Python 3 (ipykernel)",
   "language": "python",
   "name": "python3"
  },
  "language_info": {
   "codemirror_mode": {
    "name": "ipython",
    "version": 3
   },
   "file_extension": ".py",
   "mimetype": "text/x-python",
   "name": "python",
   "nbconvert_exporter": "python",
   "pygments_lexer": "ipython3",
   "version": "3.12.3"
  }
 },
 "nbformat": 4,
 "nbformat_minor": 5
}
