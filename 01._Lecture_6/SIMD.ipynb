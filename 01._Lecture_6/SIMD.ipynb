{
 "cells": [
  {
   "cell_type": "markdown",
   "id": "034f2ff2-e93e-46cc-b67f-8434c9464c16",
   "metadata": {},
   "source": [
    "# SIMD"
   ]
  },
  {
   "cell_type": "code",
   "execution_count": 1,
   "id": "3b1b37fe-376a-42c4-bbd5-ff531609cd5c",
   "metadata": {},
   "outputs": [],
   "source": [
    "import math\n",
    "import random\n",
    "import numpy as np"
   ]
  },
  {
   "cell_type": "code",
   "execution_count": 2,
   "id": "b58c4eca",
   "metadata": {},
   "outputs": [
    {
     "data": {
      "text/plain": [
       "0.6045234808225372"
      ]
     },
     "execution_count": 2,
     "metadata": {},
     "output_type": "execute_result"
    }
   ],
   "source": [
    "random.random()"
   ]
  },
  {
   "cell_type": "code",
   "execution_count": 3,
   "id": "e1e2790e",
   "metadata": {},
   "outputs": [
    {
     "name": "stdout",
     "output_type": "stream",
     "text": [
      "CPU times: total: 33.2 s\n",
      "Wall time: 33.2 s\n"
     ]
    }
   ],
   "source": [
    "%%time\n",
    "pl = [math.sin(random.random()) for i in range(100_000_000)]"
   ]
  },
  {
   "cell_type": "code",
   "execution_count": 4,
   "id": "c6710e51",
   "metadata": {},
   "outputs": [
    {
     "name": "stdout",
     "output_type": "stream",
     "text": [
      "CPU times: total: 1.36 s\n",
      "Wall time: 1.36 s\n"
     ]
    }
   ],
   "source": [
    "%%time\n",
    "na = np.sin(np.random.rand(100_000_000))"
   ]
  }
 ],
 "metadata": {
  "kernelspec": {
   "display_name": "01._SIMD_Kernel",
   "language": "python",
   "name": "01._simd_kernel"
  },
  "language_info": {
   "codemirror_mode": {
    "name": "ipython",
    "version": 3
   },
   "file_extension": ".py",
   "mimetype": "text/x-python",
   "name": "python",
   "nbconvert_exporter": "python",
   "pygments_lexer": "ipython3",
   "version": "3.10.0"
  }
 },
 "nbformat": 4,
 "nbformat_minor": 5
}
