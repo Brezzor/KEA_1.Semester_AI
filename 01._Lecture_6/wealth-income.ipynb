{
 "cells": [
  {
   "cell_type": "markdown",
   "metadata": {},
   "source": [
    "# Wealth and Income"
   ]
  },
  {
   "cell_type": "code",
   "execution_count": 1,
   "metadata": {},
   "outputs": [],
   "source": [
    "import pandas as pd\n",
    "import ydata_profiling"
   ]
  },
  {
   "cell_type": "code",
   "execution_count": 2,
   "metadata": {},
   "outputs": [],
   "source": [
    "df = pd.read_csv('wealth-income/wealth_income_dataset.csv')"
   ]
  },
  {
   "cell_type": "code",
   "execution_count": 3,
   "metadata": {},
   "outputs": [
    {
     "data": {
      "text/html": [
       "<div>\n",
       "<style scoped>\n",
       "    .dataframe tbody tr th:only-of-type {\n",
       "        vertical-align: middle;\n",
       "    }\n",
       "\n",
       "    .dataframe tbody tr th {\n",
       "        vertical-align: top;\n",
       "    }\n",
       "\n",
       "    .dataframe thead th {\n",
       "        text-align: right;\n",
       "    }\n",
       "</style>\n",
       "<table border=\"1\" class=\"dataframe\">\n",
       "  <thead>\n",
       "    <tr style=\"text-align: right;\">\n",
       "      <th></th>\n",
       "      <th>Income</th>\n",
       "      <th>Wealth</th>\n",
       "      <th>Age</th>\n",
       "      <th>Education</th>\n",
       "      <th>Employment_Status</th>\n",
       "    </tr>\n",
       "  </thead>\n",
       "  <tbody>\n",
       "    <tr>\n",
       "      <th>0</th>\n",
       "      <td>69102.58</td>\n",
       "      <td>640831.61</td>\n",
       "      <td>47</td>\n",
       "      <td>High School</td>\n",
       "      <td>Employed</td>\n",
       "    </tr>\n",
       "    <tr>\n",
       "      <th>1</th>\n",
       "      <td>75282.09</td>\n",
       "      <td>300605.21</td>\n",
       "      <td>37</td>\n",
       "      <td>Master's</td>\n",
       "      <td>Unemployed</td>\n",
       "    </tr>\n",
       "    <tr>\n",
       "      <th>2</th>\n",
       "      <td>36924.99</td>\n",
       "      <td>281367.33</td>\n",
       "      <td>49</td>\n",
       "      <td>Some College</td>\n",
       "      <td>Employed</td>\n",
       "    </tr>\n",
       "    <tr>\n",
       "      <th>3</th>\n",
       "      <td>95439.82</td>\n",
       "      <td>845197.71</td>\n",
       "      <td>62</td>\n",
       "      <td>Bachelor's</td>\n",
       "      <td>Employed</td>\n",
       "    </tr>\n",
       "    <tr>\n",
       "      <th>4</th>\n",
       "      <td>47825.32</td>\n",
       "      <td>354803.81</td>\n",
       "      <td>36</td>\n",
       "      <td>Some College</td>\n",
       "      <td>Employed</td>\n",
       "    </tr>\n",
       "  </tbody>\n",
       "</table>\n",
       "</div>"
      ],
      "text/plain": [
       "     Income     Wealth  Age     Education Employment_Status\n",
       "0  69102.58  640831.61   47   High School          Employed\n",
       "1  75282.09  300605.21   37      Master's        Unemployed\n",
       "2  36924.99  281367.33   49  Some College          Employed\n",
       "3  95439.82  845197.71   62    Bachelor's          Employed\n",
       "4  47825.32  354803.81   36  Some College          Employed"
      ]
     },
     "execution_count": 3,
     "metadata": {},
     "output_type": "execute_result"
    }
   ],
   "source": [
    "df.head()"
   ]
  },
  {
   "cell_type": "code",
   "execution_count": 7,
   "metadata": {},
   "outputs": [
    {
     "data": {
      "text/html": [
       "<div>\n",
       "<style scoped>\n",
       "    .dataframe tbody tr th:only-of-type {\n",
       "        vertical-align: middle;\n",
       "    }\n",
       "\n",
       "    .dataframe tbody tr th {\n",
       "        vertical-align: top;\n",
       "    }\n",
       "\n",
       "    .dataframe thead th {\n",
       "        text-align: right;\n",
       "    }\n",
       "</style>\n",
       "<table border=\"1\" class=\"dataframe\">\n",
       "  <thead>\n",
       "    <tr style=\"text-align: right;\">\n",
       "      <th></th>\n",
       "      <th>Wealth</th>\n",
       "      <th>Age</th>\n",
       "      <th>Education</th>\n",
       "      <th>Employment_Status</th>\n",
       "    </tr>\n",
       "    <tr>\n",
       "      <th>Income</th>\n",
       "      <th></th>\n",
       "      <th></th>\n",
       "      <th></th>\n",
       "      <th></th>\n",
       "    </tr>\n",
       "  </thead>\n",
       "  <tbody>\n",
       "    <tr>\n",
       "      <th>69102.58</th>\n",
       "      <td>640831.61</td>\n",
       "      <td>47</td>\n",
       "      <td>High School</td>\n",
       "      <td>Employed</td>\n",
       "    </tr>\n",
       "    <tr>\n",
       "      <th>75282.09</th>\n",
       "      <td>300605.21</td>\n",
       "      <td>37</td>\n",
       "      <td>Master's</td>\n",
       "      <td>Unemployed</td>\n",
       "    </tr>\n",
       "    <tr>\n",
       "      <th>36924.99</th>\n",
       "      <td>281367.33</td>\n",
       "      <td>49</td>\n",
       "      <td>Some College</td>\n",
       "      <td>Employed</td>\n",
       "    </tr>\n",
       "    <tr>\n",
       "      <th>95439.82</th>\n",
       "      <td>845197.71</td>\n",
       "      <td>62</td>\n",
       "      <td>Bachelor's</td>\n",
       "      <td>Employed</td>\n",
       "    </tr>\n",
       "    <tr>\n",
       "      <th>47825.32</th>\n",
       "      <td>354803.81</td>\n",
       "      <td>36</td>\n",
       "      <td>Some College</td>\n",
       "      <td>Employed</td>\n",
       "    </tr>\n",
       "    <tr>\n",
       "      <th>...</th>\n",
       "      <td>...</td>\n",
       "      <td>...</td>\n",
       "      <td>...</td>\n",
       "      <td>...</td>\n",
       "    </tr>\n",
       "    <tr>\n",
       "      <th>97550.19</th>\n",
       "      <td>835687.41</td>\n",
       "      <td>46</td>\n",
       "      <td>Bachelor's</td>\n",
       "      <td>Employed</td>\n",
       "    </tr>\n",
       "    <tr>\n",
       "      <th>49286.11</th>\n",
       "      <td>156200.51</td>\n",
       "      <td>41</td>\n",
       "      <td>Master's</td>\n",
       "      <td>Employed</td>\n",
       "    </tr>\n",
       "    <tr>\n",
       "      <th>18259.59</th>\n",
       "      <td>58160.50</td>\n",
       "      <td>38</td>\n",
       "      <td>No High School</td>\n",
       "      <td>Employed</td>\n",
       "    </tr>\n",
       "    <tr>\n",
       "      <th>73288.12</th>\n",
       "      <td>701720.34</td>\n",
       "      <td>62</td>\n",
       "      <td>High School</td>\n",
       "      <td>Employed</td>\n",
       "    </tr>\n",
       "    <tr>\n",
       "      <th>33711.67</th>\n",
       "      <td>169935.09</td>\n",
       "      <td>47</td>\n",
       "      <td>No High School</td>\n",
       "      <td>Employed</td>\n",
       "    </tr>\n",
       "  </tbody>\n",
       "</table>\n",
       "<p>1000000 rows × 4 columns</p>\n",
       "</div>"
      ],
      "text/plain": [
       "             Wealth  Age       Education Employment_Status\n",
       "Income                                                    \n",
       "69102.58  640831.61   47     High School          Employed\n",
       "75282.09  300605.21   37        Master's        Unemployed\n",
       "36924.99  281367.33   49    Some College          Employed\n",
       "95439.82  845197.71   62      Bachelor's          Employed\n",
       "47825.32  354803.81   36    Some College          Employed\n",
       "...             ...  ...             ...               ...\n",
       "97550.19  835687.41   46      Bachelor's          Employed\n",
       "49286.11  156200.51   41        Master's          Employed\n",
       "18259.59   58160.50   38  No High School          Employed\n",
       "73288.12  701720.34   62     High School          Employed\n",
       "33711.67  169935.09   47  No High School          Employed\n",
       "\n",
       "[1000000 rows x 4 columns]"
      ]
     },
     "execution_count": 7,
     "metadata": {},
     "output_type": "execute_result"
    }
   ],
   "source": [
    "df.set_index('Income')"
   ]
  },
  {
   "cell_type": "code",
   "execution_count": 8,
   "metadata": {},
   "outputs": [
    {
     "name": "stdout",
     "output_type": "stream",
     "text": [
      "<class 'pandas.core.frame.DataFrame'>\n",
      "RangeIndex: 1000000 entries, 0 to 999999\n",
      "Data columns (total 5 columns):\n",
      " #   Column             Non-Null Count    Dtype  \n",
      "---  ------             --------------    -----  \n",
      " 0   Income             1000000 non-null  float64\n",
      " 1   Wealth             1000000 non-null  float64\n",
      " 2   Age                1000000 non-null  int64  \n",
      " 3   Education          1000000 non-null  object \n",
      " 4   Employment_Status  1000000 non-null  object \n",
      "dtypes: float64(2), int64(1), object(2)\n",
      "memory usage: 38.1+ MB\n"
     ]
    }
   ],
   "source": [
    "df.info()"
   ]
  },
  {
   "cell_type": "code",
   "execution_count": 9,
   "metadata": {},
   "outputs": [
    {
     "data": {
      "application/vnd.jupyter.widget-view+json": {
       "model_id": "aa4cab0f09a04bf099a2fb94d16bd816",
       "version_major": 2,
       "version_minor": 0
      },
      "text/plain": [
       "Summarize dataset:   0%|          | 0/5 [00:00<?, ?it/s]"
      ]
     },
     "metadata": {},
     "output_type": "display_data"
    },
    {
     "data": {
      "application/vnd.jupyter.widget-view+json": {
       "model_id": "dcdcdadc4efc458f9a6ebe4b5bbe22ec",
       "version_major": 2,
       "version_minor": 0
      },
      "text/plain": [
       "Generate report structure:   0%|          | 0/1 [00:00<?, ?it/s]"
      ]
     },
     "metadata": {},
     "output_type": "display_data"
    },
    {
     "data": {
      "application/vnd.jupyter.widget-view+json": {
       "model_id": "06939cfaf0d344ccad874d1a8f41c65e",
       "version_major": 2,
       "version_minor": 0
      },
      "text/plain": [
       "Render HTML:   0%|          | 0/1 [00:00<?, ?it/s]"
      ]
     },
     "metadata": {},
     "output_type": "display_data"
    },
    {
     "data": {
      "application/vnd.jupyter.widget-view+json": {
       "model_id": "edbaf50f7dd246e48c5e4d168cc3dde2",
       "version_major": 2,
       "version_minor": 0
      },
      "text/plain": [
       "Export report to file:   0%|          | 0/1 [00:00<?, ?it/s]"
      ]
     },
     "metadata": {},
     "output_type": "display_data"
    }
   ],
   "source": [
    "ydata_profiling.ProfileReport(df).to_file('wealth-income.html')"
   ]
  }
 ],
 "metadata": {
  "kernelspec": {
   "display_name": "01._Lecture_6",
   "language": "python",
   "name": "01._lecture_6"
  },
  "language_info": {
   "codemirror_mode": {
    "name": "ipython",
    "version": 3
   },
   "file_extension": ".py",
   "mimetype": "text/x-python",
   "name": "python",
   "nbconvert_exporter": "python",
   "pygments_lexer": "ipython3",
   "version": "3.10.0"
  }
 },
 "nbformat": 4,
 "nbformat_minor": 2
}
