{
   "cells": [
      {
         "cell_type": "code",
         "execution_count": 1,
         "id": "ea5a501a-2140-44ff-b16f-965d831fe47b",
         "metadata": {},
         "outputs": [
            {
               "name": "stderr",
               "output_type": "stream",
               "text": [
                  "2025-04-05 02:23:11.537691: E external/local_xla/xla/stream_executor/cuda/cuda_fft.cc:467] Unable to register cuFFT factory: Attempting to register factory for plugin cuFFT when one has already been registered\n",
                  "WARNING: All log messages before absl::InitializeLog() is called are written to STDERR\n",
                  "E0000 00:00:1743812591.551743  685760 cuda_dnn.cc:8579] Unable to register cuDNN factory: Attempting to register factory for plugin cuDNN when one has already been registered\n",
                  "E0000 00:00:1743812591.556233  685760 cuda_blas.cc:1407] Unable to register cuBLAS factory: Attempting to register factory for plugin cuBLAS when one has already been registered\n",
                  "W0000 00:00:1743812591.567192  685760 computation_placer.cc:177] computation placer already registered. Please check linkage and avoid linking the same target more than once.\n",
                  "W0000 00:00:1743812591.567208  685760 computation_placer.cc:177] computation placer already registered. Please check linkage and avoid linking the same target more than once.\n",
                  "W0000 00:00:1743812591.567209  685760 computation_placer.cc:177] computation placer already registered. Please check linkage and avoid linking the same target more than once.\n",
                  "W0000 00:00:1743812591.567210  685760 computation_placer.cc:177] computation placer already registered. Please check linkage and avoid linking the same target more than once.\n",
                  "2025-04-05 02:23:11.570330: I tensorflow/core/platform/cpu_feature_guard.cc:210] This TensorFlow binary is optimized to use available CPU instructions in performance-critical operations.\n",
                  "To enable the following instructions: AVX2 FMA, in other operations, rebuild TensorFlow with the appropriate compiler flags.\n"
               ]
            }
         ],
         "source": [
            "import matplotlib.pyplot as plt\n",
            "import numpy as np\n",
            "import pandas as pd\n",
            "import tensorflow as tf\n",
            "import keras_tuner as kt\n",
            "import shutil\n",
            "\n",
            "from sklearn.metrics import accuracy_score, precision_score, recall_score\n",
            "from sklearn.model_selection import train_test_split\n",
            "from tensorflow.keras import layers, losses, optimizers, regularizers, metrics\n",
            "from tensorflow.keras.models import Model"
         ]
      },
      {
         "cell_type": "code",
         "execution_count": 2,
         "id": "29d52f1e-8939-45ef-af17-9963bf1011dc",
         "metadata": {},
         "outputs": [
            {
               "data": {
                  "text/html": [
                     "<div>\n",
                     "<style scoped>\n",
                     "    .dataframe tbody tr th:only-of-type {\n",
                     "        vertical-align: middle;\n",
                     "    }\n",
                     "\n",
                     "    .dataframe tbody tr th {\n",
                     "        vertical-align: top;\n",
                     "    }\n",
                     "\n",
                     "    .dataframe thead th {\n",
                     "        text-align: right;\n",
                     "    }\n",
                     "</style>\n",
                     "<table border=\"1\" class=\"dataframe\">\n",
                     "  <thead>\n",
                     "    <tr style=\"text-align: right;\">\n",
                     "      <th></th>\n",
                     "      <th>0</th>\n",
                     "      <th>1</th>\n",
                     "      <th>2</th>\n",
                     "      <th>3</th>\n",
                     "      <th>4</th>\n",
                     "      <th>5</th>\n",
                     "      <th>6</th>\n",
                     "      <th>7</th>\n",
                     "      <th>8</th>\n",
                     "      <th>9</th>\n",
                     "      <th>...</th>\n",
                     "      <th>131</th>\n",
                     "      <th>132</th>\n",
                     "      <th>133</th>\n",
                     "      <th>134</th>\n",
                     "      <th>135</th>\n",
                     "      <th>136</th>\n",
                     "      <th>137</th>\n",
                     "      <th>138</th>\n",
                     "      <th>139</th>\n",
                     "      <th>140</th>\n",
                     "    </tr>\n",
                     "  </thead>\n",
                     "  <tbody>\n",
                     "    <tr>\n",
                     "      <th>0</th>\n",
                     "      <td>-0.112522</td>\n",
                     "      <td>-2.827204</td>\n",
                     "      <td>-3.773897</td>\n",
                     "      <td>-4.349751</td>\n",
                     "      <td>-4.376041</td>\n",
                     "      <td>-3.474986</td>\n",
                     "      <td>-2.181408</td>\n",
                     "      <td>-1.818286</td>\n",
                     "      <td>-1.250522</td>\n",
                     "      <td>-0.477492</td>\n",
                     "      <td>...</td>\n",
                     "      <td>0.792168</td>\n",
                     "      <td>0.933541</td>\n",
                     "      <td>0.796958</td>\n",
                     "      <td>0.578621</td>\n",
                     "      <td>0.257740</td>\n",
                     "      <td>0.228077</td>\n",
                     "      <td>0.123431</td>\n",
                     "      <td>0.925286</td>\n",
                     "      <td>0.193137</td>\n",
                     "      <td>1.0</td>\n",
                     "    </tr>\n",
                     "    <tr>\n",
                     "      <th>1</th>\n",
                     "      <td>-1.100878</td>\n",
                     "      <td>-3.996840</td>\n",
                     "      <td>-4.285843</td>\n",
                     "      <td>-4.506579</td>\n",
                     "      <td>-4.022377</td>\n",
                     "      <td>-3.234368</td>\n",
                     "      <td>-1.566126</td>\n",
                     "      <td>-0.992258</td>\n",
                     "      <td>-0.754680</td>\n",
                     "      <td>0.042321</td>\n",
                     "      <td>...</td>\n",
                     "      <td>0.538356</td>\n",
                     "      <td>0.656881</td>\n",
                     "      <td>0.787490</td>\n",
                     "      <td>0.724046</td>\n",
                     "      <td>0.555784</td>\n",
                     "      <td>0.476333</td>\n",
                     "      <td>0.773820</td>\n",
                     "      <td>1.119621</td>\n",
                     "      <td>-1.436250</td>\n",
                     "      <td>1.0</td>\n",
                     "    </tr>\n",
                     "    <tr>\n",
                     "      <th>2</th>\n",
                     "      <td>-0.567088</td>\n",
                     "      <td>-2.593450</td>\n",
                     "      <td>-3.874230</td>\n",
                     "      <td>-4.584095</td>\n",
                     "      <td>-4.187449</td>\n",
                     "      <td>-3.151462</td>\n",
                     "      <td>-1.742940</td>\n",
                     "      <td>-1.490659</td>\n",
                     "      <td>-1.183580</td>\n",
                     "      <td>-0.394229</td>\n",
                     "      <td>...</td>\n",
                     "      <td>0.886073</td>\n",
                     "      <td>0.531452</td>\n",
                     "      <td>0.311377</td>\n",
                     "      <td>-0.021919</td>\n",
                     "      <td>-0.713683</td>\n",
                     "      <td>-0.532197</td>\n",
                     "      <td>0.321097</td>\n",
                     "      <td>0.904227</td>\n",
                     "      <td>-0.421797</td>\n",
                     "      <td>1.0</td>\n",
                     "    </tr>\n",
                     "    <tr>\n",
                     "      <th>3</th>\n",
                     "      <td>0.490473</td>\n",
                     "      <td>-1.914407</td>\n",
                     "      <td>-3.616364</td>\n",
                     "      <td>-4.318823</td>\n",
                     "      <td>-4.268016</td>\n",
                     "      <td>-3.881110</td>\n",
                     "      <td>-2.993280</td>\n",
                     "      <td>-1.671131</td>\n",
                     "      <td>-1.333884</td>\n",
                     "      <td>-0.965629</td>\n",
                     "      <td>...</td>\n",
                     "      <td>0.350816</td>\n",
                     "      <td>0.499111</td>\n",
                     "      <td>0.600345</td>\n",
                     "      <td>0.842069</td>\n",
                     "      <td>0.952074</td>\n",
                     "      <td>0.990133</td>\n",
                     "      <td>1.086798</td>\n",
                     "      <td>1.403011</td>\n",
                     "      <td>-0.383564</td>\n",
                     "      <td>1.0</td>\n",
                     "    </tr>\n",
                     "    <tr>\n",
                     "      <th>4</th>\n",
                     "      <td>0.800232</td>\n",
                     "      <td>-0.874252</td>\n",
                     "      <td>-2.384761</td>\n",
                     "      <td>-3.973292</td>\n",
                     "      <td>-4.338224</td>\n",
                     "      <td>-3.802422</td>\n",
                     "      <td>-2.534510</td>\n",
                     "      <td>-1.783423</td>\n",
                     "      <td>-1.594450</td>\n",
                     "      <td>-0.753199</td>\n",
                     "      <td>...</td>\n",
                     "      <td>1.148884</td>\n",
                     "      <td>0.958434</td>\n",
                     "      <td>1.059025</td>\n",
                     "      <td>1.371682</td>\n",
                     "      <td>1.277392</td>\n",
                     "      <td>0.960304</td>\n",
                     "      <td>0.971020</td>\n",
                     "      <td>1.614392</td>\n",
                     "      <td>1.421456</td>\n",
                     "      <td>1.0</td>\n",
                     "    </tr>\n",
                     "  </tbody>\n",
                     "</table>\n",
                     "<p>5 rows × 141 columns</p>\n",
                     "</div>"
                  ],
                  "text/plain": [
                     "        0         1         2         3         4         5         6    \\\n",
                     "0 -0.112522 -2.827204 -3.773897 -4.349751 -4.376041 -3.474986 -2.181408   \n",
                     "1 -1.100878 -3.996840 -4.285843 -4.506579 -4.022377 -3.234368 -1.566126   \n",
                     "2 -0.567088 -2.593450 -3.874230 -4.584095 -4.187449 -3.151462 -1.742940   \n",
                     "3  0.490473 -1.914407 -3.616364 -4.318823 -4.268016 -3.881110 -2.993280   \n",
                     "4  0.800232 -0.874252 -2.384761 -3.973292 -4.338224 -3.802422 -2.534510   \n",
                     "\n",
                     "        7         8         9    ...       131       132       133       134  \\\n",
                     "0 -1.818286 -1.250522 -0.477492  ...  0.792168  0.933541  0.796958  0.578621   \n",
                     "1 -0.992258 -0.754680  0.042321  ...  0.538356  0.656881  0.787490  0.724046   \n",
                     "2 -1.490659 -1.183580 -0.394229  ...  0.886073  0.531452  0.311377 -0.021919   \n",
                     "3 -1.671131 -1.333884 -0.965629  ...  0.350816  0.499111  0.600345  0.842069   \n",
                     "4 -1.783423 -1.594450 -0.753199  ...  1.148884  0.958434  1.059025  1.371682   \n",
                     "\n",
                     "        135       136       137       138       139  140  \n",
                     "0  0.257740  0.228077  0.123431  0.925286  0.193137  1.0  \n",
                     "1  0.555784  0.476333  0.773820  1.119621 -1.436250  1.0  \n",
                     "2 -0.713683 -0.532197  0.321097  0.904227 -0.421797  1.0  \n",
                     "3  0.952074  0.990133  1.086798  1.403011 -0.383564  1.0  \n",
                     "4  1.277392  0.960304  0.971020  1.614392  1.421456  1.0  \n",
                     "\n",
                     "[5 rows x 141 columns]"
                  ]
               },
               "execution_count": 2,
               "metadata": {},
               "output_type": "execute_result"
            }
         ],
         "source": [
            "dataframe = pd.read_csv('http://storage.googleapis.com/download.tensorflow.org/data/ecg.csv', header=None)\n",
            "raw_data = dataframe.values\n",
            "dataframe.head()"
         ]
      },
      {
         "cell_type": "code",
         "execution_count": 3,
         "id": "059fa093-134b-401d-9779-6222da1406e5",
         "metadata": {},
         "outputs": [],
         "source": [
            "# The last element contains the labels\n",
            "labels = raw_data[:, -1]\n",
            "\n",
            "# The other data points are the electrocadriogram data\n",
            "data = raw_data[:, 0:-1]\n",
            "\n",
            "train_data, test_data, train_labels, test_labels = train_test_split(\n",
            "    data, labels, test_size=0.2, random_state=21\n",
            ")"
         ]
      },
      {
         "cell_type": "code",
         "execution_count": 4,
         "id": "31be9b6f-1a0a-468d-9e6b-2c11dce73b22",
         "metadata": {},
         "outputs": [
            {
               "name": "stderr",
               "output_type": "stream",
               "text": [
                  "W0000 00:00:1743812594.078563  685760 gpu_device.cc:2341] Cannot dlopen some GPU libraries. Please make sure the missing libraries mentioned above are installed properly if you would like to use GPU. Follow the guide at https://www.tensorflow.org/install/gpu for how to download and setup the required libraries for your platform.\n",
                  "Skipping registering GPU devices...\n"
               ]
            }
         ],
         "source": [
            "min_val = tf.reduce_min(train_data)\n",
            "max_val = tf.reduce_max(train_data)\n",
            "\n",
            "train_data = (train_data - min_val) / (max_val - min_val)\n",
            "test_data = (test_data - min_val) / (max_val - min_val)\n",
            "\n",
            "train_data = tf.cast(train_data, tf.float32)\n",
            "test_data = tf.cast(test_data, tf.float32)"
         ]
      },
      {
         "cell_type": "code",
         "execution_count": 5,
         "id": "92221b32-cc40-4ade-8573-3da1b99ae99f",
         "metadata": {},
         "outputs": [],
         "source": [
            "train_labels = train_labels.astype(bool)\n",
            "test_labels = test_labels.astype(bool)\n",
            "\n",
            "normal_train_data = train_data[train_labels]\n",
            "normal_test_data = test_data[test_labels]\n",
            "\n",
            "anomalous_train_data = train_data[~train_labels]\n",
            "anomalous_test_data = test_data[~test_labels]"
         ]
      },
      {
         "cell_type": "code",
         "execution_count": 6,
         "id": "155a64f8-b096-46ca-8f18-357eaaf60e83",
         "metadata": {},
         "outputs": [],
         "source": [
            "def regulizer_builder(regularizer_type, reg_strength):\n",
            "    if regularizer_type == 'l1' or regularizer_type == 'L1':\n",
            "        kernel_reg = regularizers.L1(reg_strength)\n",
            "    elif regularizer_type == 'l2' or regularizer_type == 'L2':\n",
            "        kernel_reg = regularizers.L2(reg_strength)\n",
            "    else:\n",
            "        kernel_reg = None\n",
            "        \n",
            "    return kernel_reg\n",
            "\n",
            "def model_builder(hp):\n",
            "\n",
            "    hp_units_layer_1 = hp.Int('units_layer_1', min_value=64, max_value=128, step=32)\n",
            "    hp_units_layer_2 = hp.Int('units_layer_2', min_value=32, max_value=64, step=32)\n",
            "    hp_units_layer_4 = hp.Int('units_layer_4', min_value=32, max_value=64, step=32)\n",
            "    hp_units_layer_5 = hp.Int('units_layer_5', min_value=64, max_value=128, step=32)\n",
            "    \n",
            "    hp_activation_layer_1 = hp.Choice(\"activation_layer_1\", values=[\"relu\",\"sigmoid\"])\n",
            "    hp_activation_layer_2 = hp.Choice(\"activation_layer_2\", values=[\"relu\",\"sigmoid\"])\n",
            "    hp_activation_layer_3 = hp.Choice(\"activation_layer_3\", values=[\"relu\",\"sigmoid\"])\n",
            "    hp_activation_layer_4 = hp.Choice(\"activation_layer_4\", values=[\"relu\",\"sigmoid\"])\n",
            "    hp_activation_layer_5 = hp.Choice(\"activation_layer_5\", values=[\"relu\",\"sigmoid\"])\n",
            "\n",
            "    hp_regulizer_type_layer_1 = hp.Choice(\"regulizer_type_layer_1\", values=[\"None\",\"L1\",\"L2\"])\n",
            "    hp_regulizer_type_layer_2 = hp.Choice(\"regulizer_type_layer_2\", values=[\"None\",\"L1\",\"L2\"])\n",
            "    hp_regulizer_type_layer_3 = hp.Choice(\"regulizer_type_layer_3\", values=[\"None\",\"L1\",\"L2\"])\n",
            "    hp_regulizer_type_layer_4 = hp.Choice(\"regulizer_type_layer_4\", values=[\"None\",\"L1\",\"L2\"])\n",
            "    hp_regulizer_type_layer_5 = hp.Choice(\"regulizer_type_layer_5\", values=[\"None\",\"L1\",\"L2\"])\n",
            "\n",
            "    hp_regulizer_strength_layer_1 = hp.Choice('regulizer_strength_layer_1', values=[1e-3, 5e-3, 1e-4, 5e-4, 1e-5, 5e-5,])\n",
            "    hp_regulizer_strength_layer_2 = hp.Choice('regulizer_strength_layer_2', values=[1e-3, 5e-3, 1e-4, 5e-4, 1e-5, 5e-5,])\n",
            "    hp_regulizer_strength_layer_3 = hp.Choice('regulizer_strength_layer_3', values=[1e-3, 5e-3, 1e-4, 5e-4, 1e-5, 5e-5,])\n",
            "    hp_regulizer_strength_layer_4 = hp.Choice('regulizer_strength_layer_4', values=[1e-3, 5e-3, 1e-4, 5e-4, 1e-5, 5e-5,])\n",
            "    hp_regulizer_strength_layer_5 = hp.Choice('regulizer_strength_layer_5', values=[1e-3, 5e-3, 1e-4, 5e-4, 1e-5, 5e-5,])\n",
            "    \n",
            "    model = tf.keras.Sequential()\n",
            "    model.add(layers.Input(shape=(140,)))\n",
            "    model.add(layers.Dense(units=hp_units_layer_1, \n",
            "                     activation=hp_activation_layer_1, \n",
            "                     kernel_regularizer=regulizer_builder(hp_regulizer_type_layer_1, \n",
            "                                                          hp_regulizer_strength_layer_1)))\n",
            "    model.add(layers.Dense(units=hp_units_layer_2, \n",
            "                     activation=hp_activation_layer_2, \n",
            "                     kernel_regularizer=regulizer_builder(hp_regulizer_type_layer_2, \n",
            "                                                          hp_regulizer_strength_layer_2)))\n",
            "    model.add(layers.Dense(units=8, \n",
            "                           activation=hp_activation_layer_3, \n",
            "                           kernel_regularizer=regulizer_builder(hp_regulizer_type_layer_3, \n",
            "                                                                hp_regulizer_strength_layer_3)))\n",
            "    model.add(layers.Dense(units=hp_units_layer_4, \n",
            "                           activation=hp_activation_layer_4, \n",
            "                           kernel_regularizer=regulizer_builder(hp_regulizer_type_layer_4, \n",
            "                                                                hp_regulizer_strength_layer_4)))\n",
            "    model.add(layers.Dense(units=hp_units_layer_5, \n",
            "                     activation=hp_activation_layer_5, \n",
            "                     kernel_regularizer=regulizer_builder(hp_regulizer_type_layer_5, \n",
            "                                                          hp_regulizer_strength_layer_5)))\n",
            "    model.add(layers.Dense(units=140, activation=\"sigmoid\"))\n",
            "\n",
            "    hp_learning_rate = hp.Choice('learning_rate', values=[1e-3, 5e-3, 1e-4, 5e-4, 1e-5, 5e-5,])\n",
            "    \n",
            "    model.compile(optimizer=optimizers.Adam(learning_rate=hp_learning_rate), \n",
            "                  loss=losses.MeanAbsoluteError(), \n",
            "                  metrics=[metrics.MeanAbsoluteError()])\n",
            "    return model"
         ]
      },
      {
         "cell_type": "code",
         "execution_count": 7,
         "id": "eba47bd5-a935-49f4-86c2-e01a923572d7",
         "metadata": {},
         "outputs": [
            {
               "name": "stdout",
               "output_type": "stream",
               "text": [
                  "Trial 30 Complete [00h 00m 03s]\n",
                  "val_mean_absolute_error: 0.034431710839271545\n",
                  "\n",
                  "Best val_mean_absolute_error So Far: 0.03439076989889145\n",
                  "Total elapsed time: 00h 01m 04s\n",
                  "CPU times: user 1min 2s, sys: 7.05 s, total: 1min 9s\n",
                  "Wall time: 1min 4s\n"
               ]
            }
         ],
         "source": [
            "%%time\n",
            "\n",
            "shutil.rmtree('my_dir', ignore_errors=True)\n",
            "\n",
            "tuner = kt.Hyperband(\n",
            "    model_builder,\n",
            "    objective=\"val_mean_absolute_error\",\n",
            "    max_epochs=10,\n",
            "    directory='my_dir',\n",
            "    project_name='ECG-EKG'\n",
            ")\n",
            "\n",
            "stop_early = tf.keras.callbacks.EarlyStopping(monitor='val_mean_absolute_error', patience=2)\n",
            "\n",
            "tuner.search(normal_train_data, normal_train_data, \n",
            "             epochs=40, \n",
            "             batch_size=512, \n",
            "             validation_data=(test_data, test_data), \n",
            "             shuffle=True,\n",
            "             callbacks=[stop_early],\n",
            "             verbose=1)\n",
            "\n",
            "best_hps = tuner.get_best_hyperparameters(num_trials=1)[0]"
         ]
      },
      {
         "cell_type": "code",
         "execution_count": 8,
         "id": "5bdb6d29-3e71-40ca-9b45-cc4b38e5c2f1",
         "metadata": {},
         "outputs": [
            {
               "data": {
                  "text/html": [
                     "<pre style=\"white-space:pre;overflow-x:auto;line-height:normal;font-family:Menlo,'DejaVu Sans Mono',consolas,'Courier New',monospace\"><span style=\"font-weight: bold\">Model: \"sequential_1\"</span>\n",
                     "</pre>\n"
                  ],
                  "text/plain": [
                     "\u001b[1mModel: \"sequential_1\"\u001b[0m\n"
                  ]
               },
               "metadata": {},
               "output_type": "display_data"
            },
            {
               "data": {
                  "text/html": [
                     "<pre style=\"white-space:pre;overflow-x:auto;line-height:normal;font-family:Menlo,'DejaVu Sans Mono',consolas,'Courier New',monospace\">┏━━━━━━━━━━━━━━━━━━━━━━━━━━━━━━━━━┳━━━━━━━━━━━━━━━━━━━━━━━━┳━━━━━━━━━━━━━━━┓\n",
                     "┃<span style=\"font-weight: bold\"> Layer (type)                    </span>┃<span style=\"font-weight: bold\"> Output Shape           </span>┃<span style=\"font-weight: bold\">       Param # </span>┃\n",
                     "┡━━━━━━━━━━━━━━━━━━━━━━━━━━━━━━━━━╇━━━━━━━━━━━━━━━━━━━━━━━━╇━━━━━━━━━━━━━━━┩\n",
                     "│ dense_6 (<span style=\"color: #0087ff; text-decoration-color: #0087ff\">Dense</span>)                 │ (<span style=\"color: #00d7ff; text-decoration-color: #00d7ff\">None</span>, <span style=\"color: #00af00; text-decoration-color: #00af00\">96</span>)             │        <span style=\"color: #00af00; text-decoration-color: #00af00\">13,536</span> │\n",
                     "├─────────────────────────────────┼────────────────────────┼───────────────┤\n",
                     "│ dense_7 (<span style=\"color: #0087ff; text-decoration-color: #0087ff\">Dense</span>)                 │ (<span style=\"color: #00d7ff; text-decoration-color: #00d7ff\">None</span>, <span style=\"color: #00af00; text-decoration-color: #00af00\">32</span>)             │         <span style=\"color: #00af00; text-decoration-color: #00af00\">3,104</span> │\n",
                     "├─────────────────────────────────┼────────────────────────┼───────────────┤\n",
                     "│ dense_8 (<span style=\"color: #0087ff; text-decoration-color: #0087ff\">Dense</span>)                 │ (<span style=\"color: #00d7ff; text-decoration-color: #00d7ff\">None</span>, <span style=\"color: #00af00; text-decoration-color: #00af00\">8</span>)              │           <span style=\"color: #00af00; text-decoration-color: #00af00\">264</span> │\n",
                     "├─────────────────────────────────┼────────────────────────┼───────────────┤\n",
                     "│ dense_9 (<span style=\"color: #0087ff; text-decoration-color: #0087ff\">Dense</span>)                 │ (<span style=\"color: #00d7ff; text-decoration-color: #00d7ff\">None</span>, <span style=\"color: #00af00; text-decoration-color: #00af00\">32</span>)             │           <span style=\"color: #00af00; text-decoration-color: #00af00\">288</span> │\n",
                     "├─────────────────────────────────┼────────────────────────┼───────────────┤\n",
                     "│ dense_10 (<span style=\"color: #0087ff; text-decoration-color: #0087ff\">Dense</span>)                │ (<span style=\"color: #00d7ff; text-decoration-color: #00d7ff\">None</span>, <span style=\"color: #00af00; text-decoration-color: #00af00\">64</span>)             │         <span style=\"color: #00af00; text-decoration-color: #00af00\">2,112</span> │\n",
                     "├─────────────────────────────────┼────────────────────────┼───────────────┤\n",
                     "│ dense_11 (<span style=\"color: #0087ff; text-decoration-color: #0087ff\">Dense</span>)                │ (<span style=\"color: #00d7ff; text-decoration-color: #00d7ff\">None</span>, <span style=\"color: #00af00; text-decoration-color: #00af00\">140</span>)            │         <span style=\"color: #00af00; text-decoration-color: #00af00\">9,100</span> │\n",
                     "└─────────────────────────────────┴────────────────────────┴───────────────┘\n",
                     "</pre>\n"
                  ],
                  "text/plain": [
                     "┏━━━━━━━━━━━━━━━━━━━━━━━━━━━━━━━━━┳━━━━━━━━━━━━━━━━━━━━━━━━┳━━━━━━━━━━━━━━━┓\n",
                     "┃\u001b[1m \u001b[0m\u001b[1mLayer (type)                   \u001b[0m\u001b[1m \u001b[0m┃\u001b[1m \u001b[0m\u001b[1mOutput Shape          \u001b[0m\u001b[1m \u001b[0m┃\u001b[1m \u001b[0m\u001b[1m      Param #\u001b[0m\u001b[1m \u001b[0m┃\n",
                     "┡━━━━━━━━━━━━━━━━━━━━━━━━━━━━━━━━━╇━━━━━━━━━━━━━━━━━━━━━━━━╇━━━━━━━━━━━━━━━┩\n",
                     "│ dense_6 (\u001b[38;5;33mDense\u001b[0m)                 │ (\u001b[38;5;45mNone\u001b[0m, \u001b[38;5;34m96\u001b[0m)             │        \u001b[38;5;34m13,536\u001b[0m │\n",
                     "├─────────────────────────────────┼────────────────────────┼───────────────┤\n",
                     "│ dense_7 (\u001b[38;5;33mDense\u001b[0m)                 │ (\u001b[38;5;45mNone\u001b[0m, \u001b[38;5;34m32\u001b[0m)             │         \u001b[38;5;34m3,104\u001b[0m │\n",
                     "├─────────────────────────────────┼────────────────────────┼───────────────┤\n",
                     "│ dense_8 (\u001b[38;5;33mDense\u001b[0m)                 │ (\u001b[38;5;45mNone\u001b[0m, \u001b[38;5;34m8\u001b[0m)              │           \u001b[38;5;34m264\u001b[0m │\n",
                     "├─────────────────────────────────┼────────────────────────┼───────────────┤\n",
                     "│ dense_9 (\u001b[38;5;33mDense\u001b[0m)                 │ (\u001b[38;5;45mNone\u001b[0m, \u001b[38;5;34m32\u001b[0m)             │           \u001b[38;5;34m288\u001b[0m │\n",
                     "├─────────────────────────────────┼────────────────────────┼───────────────┤\n",
                     "│ dense_10 (\u001b[38;5;33mDense\u001b[0m)                │ (\u001b[38;5;45mNone\u001b[0m, \u001b[38;5;34m64\u001b[0m)             │         \u001b[38;5;34m2,112\u001b[0m │\n",
                     "├─────────────────────────────────┼────────────────────────┼───────────────┤\n",
                     "│ dense_11 (\u001b[38;5;33mDense\u001b[0m)                │ (\u001b[38;5;45mNone\u001b[0m, \u001b[38;5;34m140\u001b[0m)            │         \u001b[38;5;34m9,100\u001b[0m │\n",
                     "└─────────────────────────────────┴────────────────────────┴───────────────┘\n"
                  ]
               },
               "metadata": {},
               "output_type": "display_data"
            },
            {
               "data": {
                  "text/html": [
                     "<pre style=\"white-space:pre;overflow-x:auto;line-height:normal;font-family:Menlo,'DejaVu Sans Mono',consolas,'Courier New',monospace\"><span style=\"font-weight: bold\"> Total params: </span><span style=\"color: #00af00; text-decoration-color: #00af00\">28,404</span> (110.95 KB)\n",
                     "</pre>\n"
                  ],
                  "text/plain": [
                     "\u001b[1m Total params: \u001b[0m\u001b[38;5;34m28,404\u001b[0m (110.95 KB)\n"
                  ]
               },
               "metadata": {},
               "output_type": "display_data"
            },
            {
               "data": {
                  "text/html": [
                     "<pre style=\"white-space:pre;overflow-x:auto;line-height:normal;font-family:Menlo,'DejaVu Sans Mono',consolas,'Courier New',monospace\"><span style=\"font-weight: bold\"> Trainable params: </span><span style=\"color: #00af00; text-decoration-color: #00af00\">28,404</span> (110.95 KB)\n",
                     "</pre>\n"
                  ],
                  "text/plain": [
                     "\u001b[1m Trainable params: \u001b[0m\u001b[38;5;34m28,404\u001b[0m (110.95 KB)\n"
                  ]
               },
               "metadata": {},
               "output_type": "display_data"
            },
            {
               "data": {
                  "text/html": [
                     "<pre style=\"white-space:pre;overflow-x:auto;line-height:normal;font-family:Menlo,'DejaVu Sans Mono',consolas,'Courier New',monospace\"><span style=\"font-weight: bold\"> Non-trainable params: </span><span style=\"color: #00af00; text-decoration-color: #00af00\">0</span> (0.00 B)\n",
                     "</pre>\n"
                  ],
                  "text/plain": [
                     "\u001b[1m Non-trainable params: \u001b[0m\u001b[38;5;34m0\u001b[0m (0.00 B)\n"
                  ]
               },
               "metadata": {},
               "output_type": "display_data"
            }
         ],
         "source": [
            "hypermodel = tuner.hypermodel.build(best_hps)\n",
            "hypermodel.summary()"
         ]
      },
      {
         "cell_type": "code",
         "execution_count": 9,
         "id": "52f0eec1-ec2b-4d68-9ce9-859ca78efabb",
         "metadata": {},
         "outputs": [
            {
               "name": "stdout",
               "output_type": "stream",
               "text": [
                  "Epoch 1/40\n",
                  "\u001b[1m5/5\u001b[0m \u001b[32m━━━━━━━━━━━━━━━━━━━━\u001b[0m\u001b[37m\u001b[0m \u001b[1m1s\u001b[0m 44ms/step - loss: 1.6605 - mean_absolute_error: 0.0795 - val_loss: 1.3564 - val_mean_absolute_error: 0.0479\n",
                  "Epoch 2/40\n",
                  "\u001b[1m5/5\u001b[0m \u001b[32m━━━━━━━━━━━━━━━━━━━━\u001b[0m\u001b[37m\u001b[0m \u001b[1m0s\u001b[0m 14ms/step - loss: 1.2735 - mean_absolute_error: 0.0355 - val_loss: 1.0439 - val_mean_absolute_error: 0.0407\n",
                  "Epoch 3/40\n",
                  "\u001b[1m5/5\u001b[0m \u001b[32m━━━━━━━━━━━━━━━━━━━━\u001b[0m\u001b[37m\u001b[0m \u001b[1m0s\u001b[0m 14ms/step - loss: 0.9703 - mean_absolute_error: 0.0279 - val_loss: 0.7776 - val_mean_absolute_error: 0.0366\n",
                  "Epoch 4/40\n",
                  "\u001b[1m5/5\u001b[0m \u001b[32m━━━━━━━━━━━━━━━━━━━━\u001b[0m\u001b[37m\u001b[0m \u001b[1m0s\u001b[0m 14ms/step - loss: 0.7136 - mean_absolute_error: 0.0241 - val_loss: 0.5570 - val_mean_absolute_error: 0.0364\n",
                  "Epoch 5/40\n",
                  "\u001b[1m5/5\u001b[0m \u001b[32m━━━━━━━━━━━━━━━━━━━━\u001b[0m\u001b[37m\u001b[0m \u001b[1m0s\u001b[0m 13ms/step - loss: 0.5022 - mean_absolute_error: 0.0230 - val_loss: 0.3809 - val_mean_absolute_error: 0.0355\n",
                  "Epoch 6/40\n",
                  "\u001b[1m5/5\u001b[0m \u001b[32m━━━━━━━━━━━━━━━━━━━━\u001b[0m\u001b[37m\u001b[0m \u001b[1m0s\u001b[0m 14ms/step - loss: 0.3355 - mean_absolute_error: 0.0217 - val_loss: 0.2513 - val_mean_absolute_error: 0.0350\n",
                  "Epoch 7/40\n",
                  "\u001b[1m5/5\u001b[0m \u001b[32m━━━━━━━━━━━━━━━━━━━━\u001b[0m\u001b[37m\u001b[0m \u001b[1m0s\u001b[0m 14ms/step - loss: 0.2154 - mean_absolute_error: 0.0215 - val_loss: 0.1600 - val_mean_absolute_error: 0.0345\n",
                  "Epoch 8/40\n",
                  "\u001b[1m5/5\u001b[0m \u001b[32m━━━━━━━━━━━━━━━━━━━━\u001b[0m\u001b[37m\u001b[0m \u001b[1m0s\u001b[0m 14ms/step - loss: 0.1338 - mean_absolute_error: 0.0210 - val_loss: 0.1141 - val_mean_absolute_error: 0.0345\n",
                  "Epoch 9/40\n",
                  "\u001b[1m5/5\u001b[0m \u001b[32m━━━━━━━━━━━━━━━━━━━━\u001b[0m\u001b[37m\u001b[0m \u001b[1m0s\u001b[0m 14ms/step - loss: 0.0969 - mean_absolute_error: 0.0207 - val_loss: 0.1063 - val_mean_absolute_error: 0.0343\n",
                  "Epoch 10/40\n",
                  "\u001b[1m5/5\u001b[0m \u001b[32m━━━━━━━━━━━━━━━━━━━━\u001b[0m\u001b[37m\u001b[0m \u001b[1m0s\u001b[0m 14ms/step - loss: 0.0892 - mean_absolute_error: 0.0206 - val_loss: 0.0869 - val_mean_absolute_error: 0.0346\n",
                  "Epoch 11/40\n",
                  "\u001b[1m5/5\u001b[0m \u001b[32m━━━━━━━━━━━━━━━━━━━━\u001b[0m\u001b[37m\u001b[0m \u001b[1m0s\u001b[0m 13ms/step - loss: 0.0683 - mean_absolute_error: 0.0206 - val_loss: 0.0678 - val_mean_absolute_error: 0.0345\n",
                  "Epoch 12/40\n",
                  "\u001b[1m5/5\u001b[0m \u001b[32m━━━━━━━━━━━━━━━━━━━━\u001b[0m\u001b[37m\u001b[0m \u001b[1m0s\u001b[0m 14ms/step - loss: 0.0518 - mean_absolute_error: 0.0204 - val_loss: 0.0629 - val_mean_absolute_error: 0.0343\n",
                  "Epoch 13/40\n",
                  "\u001b[1m5/5\u001b[0m \u001b[32m━━━━━━━━━━━━━━━━━━━━\u001b[0m\u001b[37m\u001b[0m \u001b[1m0s\u001b[0m 14ms/step - loss: 0.0470 - mean_absolute_error: 0.0201 - val_loss: 0.0551 - val_mean_absolute_error: 0.0344\n",
                  "Epoch 14/40\n",
                  "\u001b[1m5/5\u001b[0m \u001b[32m━━━━━━━━━━━━━━━━━━━━\u001b[0m\u001b[37m\u001b[0m \u001b[1m0s\u001b[0m 14ms/step - loss: 0.0403 - mean_absolute_error: 0.0207 - val_loss: 0.0520 - val_mean_absolute_error: 0.0344\n",
                  "Epoch 15/40\n",
                  "\u001b[1m5/5\u001b[0m \u001b[32m━━━━━━━━━━━━━━━━━━━━\u001b[0m\u001b[37m\u001b[0m \u001b[1m0s\u001b[0m 15ms/step - loss: 0.0371 - mean_absolute_error: 0.0204 - val_loss: 0.0490 - val_mean_absolute_error: 0.0344\n",
                  "Epoch 16/40\n",
                  "\u001b[1m5/5\u001b[0m \u001b[32m━━━━━━━━━━━━━━━━━━━━\u001b[0m\u001b[37m\u001b[0m \u001b[1m0s\u001b[0m 14ms/step - loss: 0.0348 - mean_absolute_error: 0.0206 - val_loss: 0.0472 - val_mean_absolute_error: 0.0344\n",
                  "Epoch 17/40\n",
                  "\u001b[1m5/5\u001b[0m \u001b[32m━━━━━━━━━━━━━━━━━━━━\u001b[0m\u001b[37m\u001b[0m \u001b[1m0s\u001b[0m 14ms/step - loss: 0.0330 - mean_absolute_error: 0.0204 - val_loss: 0.0462 - val_mean_absolute_error: 0.0344\n",
                  "Epoch 18/40\n",
                  "\u001b[1m5/5\u001b[0m \u001b[32m━━━━━━━━━━━━━━━━━━━━\u001b[0m\u001b[37m\u001b[0m \u001b[1m0s\u001b[0m 17ms/step - loss: 0.0320 - mean_absolute_error: 0.0205 - val_loss: 0.0456 - val_mean_absolute_error: 0.0344\n",
                  "Epoch 19/40\n",
                  "\u001b[1m5/5\u001b[0m \u001b[32m━━━━━━━━━━━━━━━━━━━━\u001b[0m\u001b[37m\u001b[0m \u001b[1m0s\u001b[0m 14ms/step - loss: 0.0314 - mean_absolute_error: 0.0206 - val_loss: 0.0448 - val_mean_absolute_error: 0.0344\n",
                  "Epoch 20/40\n",
                  "\u001b[1m5/5\u001b[0m \u001b[32m━━━━━━━━━━━━━━━━━━━━\u001b[0m\u001b[37m\u001b[0m \u001b[1m0s\u001b[0m 14ms/step - loss: 0.0308 - mean_absolute_error: 0.0205 - val_loss: 0.0445 - val_mean_absolute_error: 0.0344\n",
                  "Epoch 21/40\n",
                  "\u001b[1m5/5\u001b[0m \u001b[32m━━━━━━━━━━━━━━━━━━━━\u001b[0m\u001b[37m\u001b[0m \u001b[1m0s\u001b[0m 14ms/step - loss: 0.0306 - mean_absolute_error: 0.0205 - val_loss: 0.0439 - val_mean_absolute_error: 0.0344\n",
                  "Epoch 22/40\n",
                  "\u001b[1m5/5\u001b[0m \u001b[32m━━━━━━━━━━━━━━━━━━━━\u001b[0m\u001b[37m\u001b[0m \u001b[1m0s\u001b[0m 14ms/step - loss: 0.0304 - mean_absolute_error: 0.0207 - val_loss: 0.0443 - val_mean_absolute_error: 0.0345\n",
                  "Epoch 23/40\n",
                  "\u001b[1m5/5\u001b[0m \u001b[32m━━━━━━━━━━━━━━━━━━━━\u001b[0m\u001b[37m\u001b[0m \u001b[1m0s\u001b[0m 14ms/step - loss: 0.0304 - mean_absolute_error: 0.0206 - val_loss: 0.0442 - val_mean_absolute_error: 0.0343\n",
                  "Epoch 24/40\n",
                  "\u001b[1m5/5\u001b[0m \u001b[32m━━━━━━━━━━━━━━━━━━━━\u001b[0m\u001b[37m\u001b[0m \u001b[1m0s\u001b[0m 14ms/step - loss: 0.0300 - mean_absolute_error: 0.0203 - val_loss: 0.0440 - val_mean_absolute_error: 0.0344\n",
                  "Epoch 25/40\n",
                  "\u001b[1m5/5\u001b[0m \u001b[32m━━━━━━━━━━━━━━━━━━━━\u001b[0m\u001b[37m\u001b[0m \u001b[1m0s\u001b[0m 13ms/step - loss: 0.0300 - mean_absolute_error: 0.0205 - val_loss: 0.0437 - val_mean_absolute_error: 0.0343\n",
                  "Epoch 26/40\n",
                  "\u001b[1m5/5\u001b[0m \u001b[32m━━━━━━━━━━━━━━━━━━━━\u001b[0m\u001b[37m\u001b[0m \u001b[1m0s\u001b[0m 14ms/step - loss: 0.0301 - mean_absolute_error: 0.0206 - val_loss: 0.0440 - val_mean_absolute_error: 0.0344\n",
                  "Epoch 27/40\n",
                  "\u001b[1m5/5\u001b[0m \u001b[32m━━━━━━━━━━━━━━━━━━━━\u001b[0m\u001b[37m\u001b[0m \u001b[1m0s\u001b[0m 14ms/step - loss: 0.0305 - mean_absolute_error: 0.0209 - val_loss: 0.0442 - val_mean_absolute_error: 0.0344\n",
                  "Epoch 28/40\n",
                  "\u001b[1m5/5\u001b[0m \u001b[32m━━━━━━━━━━━━━━━━━━━━\u001b[0m\u001b[37m\u001b[0m \u001b[1m0s\u001b[0m 14ms/step - loss: 0.0306 - mean_absolute_error: 0.0208 - val_loss: 0.0442 - val_mean_absolute_error: 0.0344\n",
                  "Epoch 29/40\n",
                  "\u001b[1m5/5\u001b[0m \u001b[32m━━━━━━━━━━━━━━━━━━━━\u001b[0m\u001b[37m\u001b[0m \u001b[1m0s\u001b[0m 14ms/step - loss: 0.0299 - mean_absolute_error: 0.0202 - val_loss: 0.0437 - val_mean_absolute_error: 0.0343\n",
                  "Epoch 30/40\n",
                  "\u001b[1m5/5\u001b[0m \u001b[32m━━━━━━━━━━━━━━━━━━━━\u001b[0m\u001b[37m\u001b[0m \u001b[1m0s\u001b[0m 14ms/step - loss: 0.0302 - mean_absolute_error: 0.0209 - val_loss: 0.0440 - val_mean_absolute_error: 0.0344\n",
                  "Epoch 31/40\n",
                  "\u001b[1m5/5\u001b[0m \u001b[32m━━━━━━━━━━━━━━━━━━━━\u001b[0m\u001b[37m\u001b[0m \u001b[1m0s\u001b[0m 14ms/step - loss: 0.0299 - mean_absolute_error: 0.0205 - val_loss: 0.0437 - val_mean_absolute_error: 0.0343\n",
                  "Epoch 32/40\n",
                  "\u001b[1m5/5\u001b[0m \u001b[32m━━━━━━━━━━━━━━━━━━━━\u001b[0m\u001b[37m\u001b[0m \u001b[1m0s\u001b[0m 13ms/step - loss: 0.0302 - mean_absolute_error: 0.0207 - val_loss: 0.0438 - val_mean_absolute_error: 0.0345\n",
                  "Epoch 33/40\n",
                  "\u001b[1m5/5\u001b[0m \u001b[32m━━━━━━━━━━━━━━━━━━━━\u001b[0m\u001b[37m\u001b[0m \u001b[1m0s\u001b[0m 13ms/step - loss: 0.0301 - mean_absolute_error: 0.0207 - val_loss: 0.0436 - val_mean_absolute_error: 0.0343\n",
                  "Epoch 34/40\n",
                  "\u001b[1m5/5\u001b[0m \u001b[32m━━━━━━━━━━━━━━━━━━━━\u001b[0m\u001b[37m\u001b[0m \u001b[1m0s\u001b[0m 13ms/step - loss: 0.0300 - mean_absolute_error: 0.0205 - val_loss: 0.0439 - val_mean_absolute_error: 0.0344\n",
                  "Epoch 35/40\n",
                  "\u001b[1m5/5\u001b[0m \u001b[32m━━━━━━━━━━━━━━━━━━━━\u001b[0m\u001b[37m\u001b[0m \u001b[1m0s\u001b[0m 13ms/step - loss: 0.0301 - mean_absolute_error: 0.0205 - val_loss: 0.0439 - val_mean_absolute_error: 0.0344\n",
                  "Epoch 36/40\n",
                  "\u001b[1m5/5\u001b[0m \u001b[32m━━━━━━━━━━━━━━━━━━━━\u001b[0m\u001b[37m\u001b[0m \u001b[1m0s\u001b[0m 14ms/step - loss: 0.0301 - mean_absolute_error: 0.0207 - val_loss: 0.0439 - val_mean_absolute_error: 0.0345\n",
                  "Epoch 37/40\n",
                  "\u001b[1m5/5\u001b[0m \u001b[32m━━━━━━━━━━━━━━━━━━━━\u001b[0m\u001b[37m\u001b[0m \u001b[1m0s\u001b[0m 13ms/step - loss: 0.0299 - mean_absolute_error: 0.0205 - val_loss: 0.0436 - val_mean_absolute_error: 0.0342\n",
                  "Epoch 38/40\n",
                  "\u001b[1m5/5\u001b[0m \u001b[32m━━━━━━━━━━━━━━━━━━━━\u001b[0m\u001b[37m\u001b[0m \u001b[1m0s\u001b[0m 14ms/step - loss: 0.0299 - mean_absolute_error: 0.0205 - val_loss: 0.0442 - val_mean_absolute_error: 0.0345\n",
                  "Epoch 39/40\n",
                  "\u001b[1m5/5\u001b[0m \u001b[32m━━━━━━━━━━━━━━━━━━━━\u001b[0m\u001b[37m\u001b[0m \u001b[1m0s\u001b[0m 14ms/step - loss: 0.0300 - mean_absolute_error: 0.0204 - val_loss: 0.0438 - val_mean_absolute_error: 0.0343\n",
                  "Epoch 40/40\n",
                  "\u001b[1m5/5\u001b[0m \u001b[32m━━━━━━━━━━━━━━━━━━━━\u001b[0m\u001b[37m\u001b[0m \u001b[1m0s\u001b[0m 13ms/step - loss: 0.0301 - mean_absolute_error: 0.0205 - val_loss: 0.0439 - val_mean_absolute_error: 0.0344\n",
                  "CPU times: user 4.83 s, sys: 1.21 s, total: 6.04 s\n",
                  "Wall time: 4.41 s\n"
               ]
            }
         ],
         "source": [
            "%%time\n",
            "\n",
            "history = hypermodel.fit(normal_train_data, normal_train_data,\n",
            "        epochs=40,\n",
            "        batch_size=512,\n",
            "        validation_data=(test_data, test_data),\n",
            "        shuffle=True,\n",
            "        verbose=1)"
         ]
      },
      {
         "cell_type": "code",
         "execution_count": 10,
         "id": "d040c59d-fd5b-47f4-877d-d8306c131ed6",
         "metadata": {},
         "outputs": [],
         "source": [
            "def predict(model, data, threshold):\n",
            "    reconstructions = model(data)\n",
            "    loss = tf.keras.losses.mae(reconstructions, data)\n",
            "    return tf.math.less(loss, threshold)\n",
            "\n",
            "def print_stats(predictions, labels):\n",
            "    print(\"Accuracy = {}\".format(accuracy_score(labels, predictions)))\n",
            "    print(\"Precision = {}\".format(precision_score(labels, predictions)))\n",
            "    print(\"Recall = {}\".format(recall_score(labels, predictions)))"
         ]
      },
      {
         "cell_type": "code",
         "execution_count": 11,
         "id": "d2ff978d-92ef-4b71-a3e9-e108ae952e4c",
         "metadata": {},
         "outputs": [
            {
               "name": "stdout",
               "output_type": "stream",
               "text": [
                  "\u001b[1m74/74\u001b[0m \u001b[32m━━━━━━━━━━━━━━━━━━━━\u001b[0m\u001b[37m\u001b[0m \u001b[1m0s\u001b[0m 1ms/step  \n"
               ]
            }
         ],
         "source": [
            "reconstructions = hypermodel.predict(normal_train_data)\n",
            "train_loss = tf.keras.losses.mae(reconstructions, normal_train_data)"
         ]
      },
      {
         "cell_type": "code",
         "execution_count": 12,
         "id": "23480c96-c908-4b6b-aadb-bceb1bca4a3d",
         "metadata": {},
         "outputs": [
            {
               "name": "stdout",
               "output_type": "stream",
               "text": [
                  "Threshold:  0.03335403\n"
               ]
            }
         ],
         "source": [
            "threshold = np.mean(train_loss) + np.std(train_loss)\n",
            "print(\"Threshold: \", threshold)"
         ]
      },
      {
         "cell_type": "code",
         "execution_count": 13,
         "id": "2f1202d4-ccaa-439e-ac22-dfc5572ec04f",
         "metadata": {},
         "outputs": [
            {
               "name": "stdout",
               "output_type": "stream",
               "text": [
                  "Accuracy = 0.945\n",
                  "Precision = 0.9922027290448343\n",
                  "Recall = 0.9089285714285714\n"
               ]
            }
         ],
         "source": [
            "preds = predict(hypermodel, test_data, threshold)\n",
            "print_stats(preds, test_labels)"
         ]
      },
      {
         "cell_type": "code",
         "execution_count": null,
         "id": "e2c5724f-2e94-4c2a-822e-20b3722df761",
         "metadata": {},
         "outputs": [],
         "source": []
      }
   ],
   "metadata": {
      "kernelspec": {
         "display_name": "Python 3 (ipykernel)",
         "language": "python",
         "name": "python3"
      },
      "language_info": {
         "codemirror_mode": {
            "name": "ipython",
            "version": 3
         },
         "file_extension": ".py",
         "mimetype": "text/x-python",
         "name": "python",
         "nbconvert_exporter": "python",
         "pygments_lexer": "ipython3",
         "version": "3.12.3"
      }
   },
   "nbformat": 4,
   "nbformat_minor": 5
}