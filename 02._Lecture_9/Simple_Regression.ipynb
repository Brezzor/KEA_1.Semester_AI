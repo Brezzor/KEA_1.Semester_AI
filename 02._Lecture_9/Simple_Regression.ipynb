{
 "cells": [
  {
   "cell_type": "code",
   "execution_count": 65,
   "metadata": {},
   "outputs": [],
   "source": [
    "import os\n",
    "import math\n",
    "import random\n",
    "import subprocess\n",
    "import pandas as pd\n",
    "from tqdm import tqdm\n",
    "import numpy as np\n",
    "import matplotlib.pyplot as plt\n"
   ]
  },
  {
   "cell_type": "code",
   "execution_count": null,
   "metadata": {},
   "outputs": [
    {
     "name": "stdout",
     "output_type": "stream",
     "text": [
      "x: [1, 3, 4.5, 5.5]\n",
      "y: [2.5, 3, 3, 3.5]\n"
     ]
    }
   ],
   "source": [
    "x = [1, 3, 4.5, 5.5]\n",
    "y = [2.5, 3, 3, 3.5]\n",
    "\n",
    "print('x:', x)\n",
    "print('y:', y)"
   ]
  },
  {
   "cell_type": "code",
   "execution_count": 80,
   "metadata": {},
   "outputs": [
    {
     "name": "stdout",
     "output_type": "stream",
     "text": [
      "theta: [2.31521739 0.19565217]\n"
     ]
    }
   ],
   "source": [
    "def cost_2(theta, x, y):\n",
    "    m = np.size(y)\n",
    "    return sum(1/(2*m) * np.square(h2(theta, np.array(x)) - np.array(y)))\n",
    "\n",
    "def h2(theta, x):\n",
    "    X = np.ones([len(x),len(theta)])\n",
    "    X[:,1] = x\n",
    "    return X.dot(theta.T)\n",
    "\n",
    "def linear_cost_prime(hyp, theta, x, y):\n",
    "    m = np.size(y)\n",
    "    delta = np.zeros(np.shape(theta))\n",
    "    delta[0] -= (2/float(m)) * sum((y - hyp(theta, x)))\n",
    "    delta[1] -= (2/float(m)) * sum((y - hyp(theta, x)) * x)\n",
    "    return delta\n",
    "\n",
    "def gradient_descent_2(hyp, cost, cost_prime, x, y, theta, alpha, iterations, verbose=False):\n",
    "    cost_history = []\n",
    "    delta = np.zeros(np.shape(theta))\n",
    "    for i in range(iterations):\n",
    "        if verbose: print(\"** Iteration \", i)\n",
    "        delta = cost_prime(hyp, theta, x, y)\n",
    "        theta = theta - alpha * delta\n",
    "        cost_history.append(cost(theta, x, y))\n",
    "    return theta, cost_history\n",
    "\n",
    "theta, cost_history = gradient_descent_2(h2, cost_2, linear_cost_prime, x, y, np.array([0, 0]), 0.05, 5000)\n",
    "\n",
    "print(\"theta:\",theta)"
   ]
  },
  {
   "cell_type": "code",
   "execution_count": 81,
   "metadata": {},
   "outputs": [
    {
     "data": {
      "image/png": "[encoded data removed]",
      "text/plain": [
       "<Figure size 640x480 with 1 Axes>"
      ]
     },
     "metadata": {},
     "output_type": "display_data"
    }
   ],
   "source": [
    "x_axis = np.linspace(0, 5000, 500)\n",
    "plt.plot(x_axis, cost_history[5:505])\n",
    "plt.title(\"Cost of approximation\")\n",
    "plt.xlabel(\"Iterations\")\n",
    "plt.ylabel(\"Cost\")\n",
    "plt.show()"
   ]
  },
  {
   "cell_type": "code",
   "execution_count": null,
   "metadata": {},
   "outputs": [
    {
     "name": "stdout",
     "output_type": "stream",
     "text": [
      "xmin/xmax: 1, 5.5\n",
      "ymin/ymax: 2.5, 3.5\n"
     ]
    }
   ],
   "source": [
    "xmin, xmax = min(x), max(x)\n",
    "ymin, ymax = min(y), max(y)\n",
    "print(\"xmin/xmax:\", \"% s, %s\" % (xmin, xmax))\n",
    "print(\"ymin/ymax:\", \"% s, %s\" % (ymin, ymax))"
   ]
  },
  {
   "cell_type": "code",
   "execution_count": null,
   "metadata": {},
   "outputs": [],
   "source": [
    "img_path = 'img/'\n",
    "if not os.path.exists(img_path):\n",
    "    os.makedirs(img_path)\n",
    "img_files = os.listdir(img_path)\n",
    "for img_file in img_files:\n",
    "    img_file_path = os.path.join(img_path, img_file)\n",
    "    if os.path.isfile(img_file_path):\n",
    "        os.remove(img_file_path)"
   ]
  },
  {
   "cell_type": "code",
   "execution_count": 83,
   "metadata": {},
   "outputs": [
    {
     "name": "stdout",
     "output_type": "stream",
     "text": [
      "Creating image files ...\n"
     ]
    },
    {
     "name": "stderr",
     "output_type": "stream",
     "text": [
      "100%|██████████| 1200/1200 [03:52<00:00,  5.15it/s]\n"
     ]
    }
   ],
   "source": [
    "cost_history_sample = cost_history.copy()[:1200]\n",
    "print('Creating image files ...')\n",
    "for i, t in enumerate(tqdm(cost_history_sample)):\n",
    "    plt.scatter(x, y)\n",
    "    plt.xlim(math.floor(xmin), math.ceil(xmax))\n",
    "    plt.ylim(math.floor(ymin), math.ceil(ymax))\n",
    "    a = np.linspace(xmin, xmax, 2)\n",
    "    b = theta[0] + a * theta[1]\n",
    "    plt.plot(a, b)\n",
    "    plt.title(f'Iterations:{i:004}')\n",
    "    plt.savefig(f'{img_path}{i:004}.png')\n",
    "    plt.close()"
   ]
  },
  {
   "cell_type": "code",
   "execution_count": null,
   "metadata": {},
   "outputs": [
    {
     "name": "stdout",
     "output_type": "stream",
     "text": [
      "Creating image palette ...\n",
      "Crating animated gif file ...\n",
      "Done!\n"
     ]
    }
   ],
   "source": [
    "print('Creating image palette ...')\n",
    "ffmpeg_command_create_palette = [\n",
    "    'ffmpeg',\n",
    "    '-y',\n",
    "    '-i', f'{img_path}%04d.png',\n",
    "    '-vf', 'palettegen',\n",
    "    'palette.png',\n",
    "]\n",
    "subprocess.call(ffmpeg_command_create_palette)\n",
    "\n",
    "\n",
    "print('Crating animated gif file ...')\n",
    "ffmpeg_command = [\n",
    "    'ffmpeg',\n",
    "    '-y',\n",
    "    '-i', f'{img_path}%04d.png',\n",
    "    '-i', 'palette.png',\n",
    "    '-filter_complex', 'fps=60,scale=600:-1:flags=lanczos[x];[x] [1:v]paletteuse',\n",
    "    'gdanim.gif',\n",
    "]\n",
    "subprocess.call(ffmpeg_command)\n",
    "\n",
    "print('Done!')\n"
   ]
  }
 ],
 "metadata": {
  "kernelspec": {
   "display_name": ".venv",
   "language": "python",
   "name": "python3"
  },
  "language_info": {
   "codemirror_mode": {
    "name": "ipython",
    "version": 3
   },
   "file_extension": ".py",
   "mimetype": "text/x-python",
   "name": "python",
   "nbconvert_exporter": "python",
   "pygments_lexer": "ipython3",
   "version": "3.10.0"
  }
 },
 "nbformat": 4,
 "nbformat_minor": 2
}
