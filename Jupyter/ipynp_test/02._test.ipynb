{
 "cells": [
  {
   "cell_type": "markdown",
   "metadata": {},
   "source": [
    "# Machine Learning Test"
   ]
  },
  {
   "cell_type": "code",
   "execution_count": 22,
   "metadata": {},
   "outputs": [
    {
     "data": {
      "text/html": [
       "<div>\n",
       "<style scoped>\n",
       "    .dataframe tbody tr th:only-of-type {\n",
       "        vertical-align: middle;\n",
       "    }\n",
       "\n",
       "    .dataframe tbody tr th {\n",
       "        vertical-align: top;\n",
       "    }\n",
       "\n",
       "    .dataframe thead th {\n",
       "        text-align: right;\n",
       "    }\n",
       "</style>\n",
       "<table border=\"1\" class=\"dataframe\">\n",
       "  <thead>\n",
       "    <tr style=\"text-align: right;\">\n",
       "      <th></th>\n",
       "      <th>fig_num</th>\n",
       "      <th>name</th>\n",
       "      <th>num_parts</th>\n",
       "      <th>img_url</th>\n",
       "    </tr>\n",
       "  </thead>\n",
       "  <tbody>\n",
       "    <tr>\n",
       "      <th>0</th>\n",
       "      <td>fig-000001</td>\n",
       "      <td>Toy Store Employee</td>\n",
       "      <td>4</td>\n",
       "      <td>https://cdn.rebrickable.com/media/sets/fig-000...</td>\n",
       "    </tr>\n",
       "    <tr>\n",
       "      <th>1</th>\n",
       "      <td>fig-000002</td>\n",
       "      <td>Customer Kid</td>\n",
       "      <td>4</td>\n",
       "      <td>https://cdn.rebrickable.com/media/sets/fig-000...</td>\n",
       "    </tr>\n",
       "    <tr>\n",
       "      <th>2</th>\n",
       "      <td>fig-000003</td>\n",
       "      <td>Assassin Droid, White</td>\n",
       "      <td>8</td>\n",
       "      <td>https://cdn.rebrickable.com/media/sets/fig-000...</td>\n",
       "    </tr>\n",
       "    <tr>\n",
       "      <th>3</th>\n",
       "      <td>fig-000004</td>\n",
       "      <td>Man, White Torso, Black Legs, Brown Hair</td>\n",
       "      <td>4</td>\n",
       "      <td>https://cdn.rebrickable.com/media/sets/fig-000...</td>\n",
       "    </tr>\n",
       "    <tr>\n",
       "      <th>4</th>\n",
       "      <td>fig-000005</td>\n",
       "      <td>Captain America with Short Legs</td>\n",
       "      <td>3</td>\n",
       "      <td>https://cdn.rebrickable.com/media/sets/fig-000...</td>\n",
       "    </tr>\n",
       "  </tbody>\n",
       "</table>\n",
       "</div>"
      ],
      "text/plain": [
       "      fig_num                                      name  num_parts  \\\n",
       "0  fig-000001                        Toy Store Employee          4   \n",
       "1  fig-000002                              Customer Kid          4   \n",
       "2  fig-000003                     Assassin Droid, White          8   \n",
       "3  fig-000004  Man, White Torso, Black Legs, Brown Hair          4   \n",
       "4  fig-000005           Captain America with Short Legs          3   \n",
       "\n",
       "                                             img_url  \n",
       "0  https://cdn.rebrickable.com/media/sets/fig-000...  \n",
       "1  https://cdn.rebrickable.com/media/sets/fig-000...  \n",
       "2  https://cdn.rebrickable.com/media/sets/fig-000...  \n",
       "3  https://cdn.rebrickable.com/media/sets/fig-000...  \n",
       "4  https://cdn.rebrickable.com/media/sets/fig-000...  "
      ]
     },
     "execution_count": 22,
     "metadata": {},
     "output_type": "execute_result"
    }
   ],
   "source": [
    "import pandas as pd\n",
    "\n",
    "df = pd.read_csv(\"Datasets/minifigs.csv\")\n",
    "df.head()"
   ]
  },
  {
   "cell_type": "code",
   "execution_count": 23,
   "metadata": {},
   "outputs": [
    {
     "data": {
      "text/html": [
       "<div>\n",
       "<style scoped>\n",
       "    .dataframe tbody tr th:only-of-type {\n",
       "        vertical-align: middle;\n",
       "    }\n",
       "\n",
       "    .dataframe tbody tr th {\n",
       "        vertical-align: top;\n",
       "    }\n",
       "\n",
       "    .dataframe thead th {\n",
       "        text-align: right;\n",
       "    }\n",
       "</style>\n",
       "<table border=\"1\" class=\"dataframe\">\n",
       "  <thead>\n",
       "    <tr style=\"text-align: right;\">\n",
       "      <th></th>\n",
       "      <th>fig_num</th>\n",
       "      <th>name</th>\n",
       "      <th>num_parts</th>\n",
       "    </tr>\n",
       "  </thead>\n",
       "  <tbody>\n",
       "    <tr>\n",
       "      <th>0</th>\n",
       "      <td>fig-000001</td>\n",
       "      <td>Toy Store Employee</td>\n",
       "      <td>4</td>\n",
       "    </tr>\n",
       "    <tr>\n",
       "      <th>1</th>\n",
       "      <td>fig-000002</td>\n",
       "      <td>Customer Kid</td>\n",
       "      <td>4</td>\n",
       "    </tr>\n",
       "    <tr>\n",
       "      <th>2</th>\n",
       "      <td>fig-000003</td>\n",
       "      <td>Assassin Droid, White</td>\n",
       "      <td>8</td>\n",
       "    </tr>\n",
       "    <tr>\n",
       "      <th>3</th>\n",
       "      <td>fig-000004</td>\n",
       "      <td>Man, White Torso, Black Legs, Brown Hair</td>\n",
       "      <td>4</td>\n",
       "    </tr>\n",
       "    <tr>\n",
       "      <th>4</th>\n",
       "      <td>fig-000005</td>\n",
       "      <td>Captain America with Short Legs</td>\n",
       "      <td>3</td>\n",
       "    </tr>\n",
       "  </tbody>\n",
       "</table>\n",
       "</div>"
      ],
      "text/plain": [
       "      fig_num                                      name  num_parts\n",
       "0  fig-000001                        Toy Store Employee          4\n",
       "1  fig-000002                              Customer Kid          4\n",
       "2  fig-000003                     Assassin Droid, White          8\n",
       "3  fig-000004  Man, White Torso, Black Legs, Brown Hair          4\n",
       "4  fig-000005           Captain America with Short Legs          3"
      ]
     },
     "execution_count": 23,
     "metadata": {},
     "output_type": "execute_result"
    }
   ],
   "source": [
    "df = df.drop([\"img_url\"], axis = 1)\n",
    "df.head()"
   ]
  },
  {
   "cell_type": "code",
   "execution_count": 26,
   "metadata": {},
   "outputs": [
    {
     "data": {
      "text/html": [
       "<div>\n",
       "<style scoped>\n",
       "    .dataframe tbody tr th:only-of-type {\n",
       "        vertical-align: middle;\n",
       "    }\n",
       "\n",
       "    .dataframe tbody tr th {\n",
       "        vertical-align: top;\n",
       "    }\n",
       "\n",
       "    .dataframe thead th {\n",
       "        text-align: right;\n",
       "    }\n",
       "</style>\n",
       "<table border=\"1\" class=\"dataframe\">\n",
       "  <thead>\n",
       "    <tr style=\"text-align: right;\">\n",
       "      <th></th>\n",
       "      <th>num_parts</th>\n",
       "    </tr>\n",
       "  </thead>\n",
       "  <tbody>\n",
       "    <tr>\n",
       "      <th>count</th>\n",
       "      <td>15300.0</td>\n",
       "    </tr>\n",
       "  </tbody>\n",
       "</table>\n",
       "</div>"
      ],
      "text/plain": [
       "       num_parts\n",
       "count    15300.0"
      ]
     },
     "execution_count": 26,
     "metadata": {},
     "output_type": "execute_result"
    }
   ],
   "source": [
    "\n",
    "df.describe().loc[[\"count\"]]"
   ]
  }
 ],
 "metadata": {
  "kernelspec": {
   "display_name": ".venv",
   "language": "python",
   "name": "python3"
  },
  "language_info": {
   "codemirror_mode": {
    "name": "ipython",
    "version": 3
   },
   "file_extension": ".py",
   "mimetype": "text/x-python",
   "name": "python",
   "nbconvert_exporter": "python",
   "pygments_lexer": "ipython3",
   "version": "3.13.2"
  }
 },
 "nbformat": 4,
 "nbformat_minor": 2
}
